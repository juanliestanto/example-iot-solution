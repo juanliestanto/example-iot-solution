{
  "nbformat": 4,
  "nbformat_minor": 0,
  "metadata": {
    "colab": {
      "provenance": []
    },
    "kernelspec": {
      "name": "python3",
      "display_name": "Python 3"
    },
    "language_info": {
      "name": "python"
    }
  },
  "cells": [
    {
      "cell_type": "code",
      "execution_count": null,
      "metadata": {
        "id": "40tA9CH02ZzT"
      },
      "outputs": [],
      "source": [
        "!pip install pyserial\n",
        "import serial"
      ]
    },
    {
      "cell_type": "code",
      "source": [
        "data_serial = serial.Serial('COM7', 9600)\n",
        "\n",
        "def get_value_on():\n",
        "  data_serial.write(b'1')\n",
        "  esp32_data = data_serial.readline().decode('ascii')\n",
        "  return esp32_data\n",
        "\n",
        "def get_value_off():\n",
        "  data_serial.write(b'0')\n",
        "  esp32_data = data_serial.readline().decode('ascii')\n",
        "  return esp32_data"
      ],
      "metadata": {
        "id": "0l7V8tyS3Ctr"
      },
      "execution_count": null,
      "outputs": []
    },
    {
      "cell_type": "code",
      "source": [
        "while(l):\n",
        "  input_user = input('Input Command:')\n",
        "  if(input_user == 'on'):\n",
        "    print(get_value_on)\n",
        "  elif(input_user == 'off'):\n",
        "    print(get_value_off)\n",
        "  else:\n",
        "    print('Invalid Command')"
      ],
      "metadata": {
        "id": "25tgztGQ39KD"
      },
      "execution_count": null,
      "outputs": []
    }
  ]
}