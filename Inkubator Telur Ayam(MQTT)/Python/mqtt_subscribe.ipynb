{
  "cells": [
    {
      "cell_type": "code",
      "execution_count": null,
      "metadata": {
        "id": "JHZKNMlWDke4"
      },
      "outputs": [],
      "source": [
        "import paho.mqtt.client as mqtt\n",
        "import mysql.connector\n",
        "import time"
      ]
    },
    {
      "cell_type": "code",
      "execution_count": null,
      "metadata": {
        "id": "LWUIADXJDke5"
      },
      "outputs": [],
      "source": [
        "def on_connect(client, userdata, flags, rc):\n",
        "  print(\"Connected with result code \"+str(rc))\n",
        "  client.subscribe(\"dataTetas\")\n",
        "\n",
        "def on_message(client, userdata, msg):\n",
        "  if(msg.topic == 'dataTetas'):\n",
        "    print(msg.topic + \" \" + str(msg.payload))\n",
        "    coba = msg.payload\n",
        "    print(\"msg Payload : \" , str(coba))\n",
        "    coba2 = coba.decode()\n",
        "    print(coba2)\n",
        "\n",
        "    test = coba2.split(\",\")\n",
        "    temp = test[0]\n",
        "    hum = test[1]\n",
        "    stat = test[2]\n",
        "\n",
        "    con = mysql.connector.connect(\n",
        "        host = \"localhost\",\n",
        "        user = \"root\",\n",
        "        database = \"inkubator\"\n",
        "    )\n",
        "\n",
        "    cur = con.cursor()\n",
        "\n",
        "    cime = time.strftime(\"%y:%m:%d\")\n",
        "    ime = time.strftime(\"%H:%M:%S\")\n",
        "\n",
        "    value = (cime, ime, temp, hum, stat)\n",
        "    query = \"INSERT INTO rekap (tanggal, waktu, suhu, kelembpan, status) VALUES (%s,%s, %s, %s, %s)\"\n",
        "    cur.executemany(query,(value,))\n",
        "    time.sleep(0.5)\n",
        "    con.commit()\n",
        "    cur.close()\n",
        "    con.close()"
      ]
    },
    {
      "cell_type": "code",
      "execution_count": null,
      "metadata": {
        "id": "xmeGYmEoDke5"
      },
      "outputs": [],
      "source": [
        "client = mqtt.Client()\n",
        "client.loop_start()\n",
        "client.subscribe(\"dataTetas\")\n",
        "client.on_connect = on_connect\n",
        "client.on_message = on_message\n",
        "client.connect(\"broker.mqtt-dashboard.com\", 1883)\n",
        "time.sleep(60)\n",
        "client.loop_stop()"
      ]
    },
    {
      "cell_type": "code",
      "execution_count": null,
      "metadata": {
        "id": "YXYLRC4DDke6"
      },
      "outputs": [],
      "source": []
    }
  ],
  "metadata": {
    "kernelspec": {
      "display_name": "Python 3",
      "language": "python",
      "name": "python3"
    },
    "language_info": {
      "codemirror_mode": {
        "name": "ipython",
        "version": 3
      },
      "file_extension": ".py",
      "mimetype": "text/x-python",
      "name": "python",
      "nbconvert_exporter": "python",
      "pygments_lexer": "ipython3",
      "version": "3.7.4"
    },
    "colab": {
      "provenance": []
    }
  },
  "nbformat": 4,
  "nbformat_minor": 0
}